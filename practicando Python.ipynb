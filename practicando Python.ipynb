{
 "cells": [
  {
   "cell_type": "code",
   "execution_count": 1,
   "id": "ffbfddec",
   "metadata": {},
   "outputs": [
    {
     "data": {
      "text/plain": [
       "45"
      ]
     },
     "execution_count": 1,
     "metadata": {},
     "output_type": "execute_result"
    }
   ],
   "source": [
    "30+10+5"
   ]
  },
  {
   "cell_type": "markdown",
   "id": "2d222769",
   "metadata": {},
   "source": [
    "# titulo 1"
   ]
  },
  {
   "cell_type": "code",
   "execution_count": 8,
   "id": "86e9b4a2",
   "metadata": {},
   "outputs": [],
   "source": [
    "#esto es un comentario"
   ]
  },
  {
   "cell_type": "code",
   "execution_count": 9,
   "id": "9826eb74",
   "metadata": {},
   "outputs": [
    {
     "name": "stdout",
     "output_type": "stream",
     "text": [
      "Help on built-in function print in module builtins:\n",
      "\n",
      "print(...)\n",
      "    print(value, ..., sep=' ', end='\\n', file=sys.stdout, flush=False)\n",
      "    \n",
      "    Prints the values to a stream, or to sys.stdout by default.\n",
      "    Optional keyword arguments:\n",
      "    file:  a file-like object (stream); defaults to the current sys.stdout.\n",
      "    sep:   string inserted between values, default a space.\n",
      "    end:   string appended after the last value, default a newline.\n",
      "    flush: whether to forcibly flush the stream.\n",
      "\n"
     ]
    }
   ],
   "source": [
    "help(print) #help"
   ]
  },
  {
   "cell_type": "code",
   "execution_count": 10,
   "id": "aa1fe1c5",
   "metadata": {},
   "outputs": [
    {
     "name": "stdout",
     "output_type": "stream",
     "text": [
      "hello world\n"
     ]
    }
   ],
   "source": [
    "print(\"hello world\")"
   ]
  },
  {
   "cell_type": "code",
   "execution_count": 13,
   "id": "d4643641",
   "metadata": {},
   "outputs": [
    {
     "name": "stdout",
     "output_type": "stream",
     "text": [
      "¿Cuál es su nombre? isaac\n"
     ]
    }
   ],
   "source": [
    "nombre = input(\"¿Cuál es su nombre? \")"
   ]
  },
  {
   "cell_type": "code",
   "execution_count": 16,
   "id": "1512362a",
   "metadata": {},
   "outputs": [
    {
     "name": "stdout",
     "output_type": "stream",
     "text": [
      "hola isaac\n"
     ]
    }
   ],
   "source": [
    "print(\"hola\", nombre)"
   ]
  },
  {
   "cell_type": "code",
   "execution_count": 7,
   "id": "f5523182",
   "metadata": {},
   "outputs": [],
   "source": [
    "import math, random\n",
    "import os\n",
    "import datetime, time\n",
    "from random import *\n",
    "from math import lcm "
   ]
  },
  {
   "cell_type": "code",
   "execution_count": 19,
   "id": "219456bf",
   "metadata": {},
   "outputs": [
    {
     "name": "stdout",
     "output_type": "stream",
     "text": [
      "77\n",
      "var no es par\n"
     ]
    }
   ],
   "source": [
    "import random\n",
    "\n",
    "var = random.randint(0,100)\n",
    "print(var)\n",
    "if var%2 == 0:\n",
    "    print('var es par')\n",
    "    \n",
    "else:\n",
    "    print('var no es par')"
   ]
  },
  {
   "cell_type": "code",
   "execution_count": 20,
   "id": "38fde0ec",
   "metadata": {},
   "outputs": [
    {
     "data": {
      "text/plain": [
       "[1, 2]"
      ]
     },
     "execution_count": 20,
     "metadata": {},
     "output_type": "execute_result"
    }
   ],
   "source": [
    "[1]+[2]"
   ]
  },
  {
   "cell_type": "code",
   "execution_count": 21,
   "id": "ddf1ce0f",
   "metadata": {},
   "outputs": [
    {
     "data": {
      "text/plain": [
       "0.375"
      ]
     },
     "execution_count": 21,
     "metadata": {},
     "output_type": "execute_result"
    }
   ],
   "source": [
    "3/8"
   ]
  },
  {
   "cell_type": "code",
   "execution_count": 22,
   "id": "65c1dbc2",
   "metadata": {},
   "outputs": [
    {
     "data": {
      "text/plain": [
       "0"
      ]
     },
     "execution_count": 22,
     "metadata": {},
     "output_type": "execute_result"
    }
   ],
   "source": [
    "3//8"
   ]
  },
  {
   "cell_type": "code",
   "execution_count": 23,
   "id": "b9a9168a",
   "metadata": {},
   "outputs": [
    {
     "data": {
      "text/plain": [
       "1"
      ]
     },
     "execution_count": 23,
     "metadata": {},
     "output_type": "execute_result"
    }
   ],
   "source": [
    "5%2"
   ]
  },
  {
   "cell_type": "code",
   "execution_count": 24,
   "id": "2b47d87a",
   "metadata": {},
   "outputs": [
    {
     "data": {
      "text/plain": [
       "390625"
      ]
     },
     "execution_count": 24,
     "metadata": {},
     "output_type": "execute_result"
    }
   ],
   "source": [
    "5**8"
   ]
  },
  {
   "cell_type": "code",
   "execution_count": 25,
   "id": "e8462191",
   "metadata": {},
   "outputs": [],
   "source": [
    "var = 5"
   ]
  },
  {
   "cell_type": "code",
   "execution_count": 26,
   "id": "ef9cf7b6",
   "metadata": {},
   "outputs": [
    {
     "data": {
      "text/plain": [
       "13"
      ]
     },
     "execution_count": 26,
     "metadata": {},
     "output_type": "execute_result"
    }
   ],
   "source": [
    "var +=8\n",
    "var"
   ]
  },
  {
   "cell_type": "code",
   "execution_count": 27,
   "id": "4770897b",
   "metadata": {},
   "outputs": [
    {
     "data": {
      "text/plain": [
       "104"
      ]
     },
     "execution_count": 27,
     "metadata": {},
     "output_type": "execute_result"
    }
   ],
   "source": [
    "var *=8\n",
    "var"
   ]
  },
  {
   "cell_type": "code",
   "execution_count": 28,
   "id": "07d44474",
   "metadata": {},
   "outputs": [
    {
     "data": {
      "text/plain": [
       "13"
      ]
     },
     "execution_count": 28,
     "metadata": {},
     "output_type": "execute_result"
    }
   ],
   "source": [
    "var //=8\n",
    "var"
   ]
  },
  {
   "cell_type": "code",
   "execution_count": 29,
   "id": "64243add",
   "metadata": {},
   "outputs": [
    {
     "data": {
      "text/plain": [
       "815730721"
      ]
     },
     "execution_count": 29,
     "metadata": {},
     "output_type": "execute_result"
    }
   ],
   "source": [
    "var **=8\n",
    "var"
   ]
  },
  {
   "cell_type": "code",
   "execution_count": 30,
   "id": "4e0d90bd",
   "metadata": {},
   "outputs": [
    {
     "data": {
      "text/plain": [
       "False"
      ]
     },
     "execution_count": 30,
     "metadata": {},
     "output_type": "execute_result"
    }
   ],
   "source": [
    "5 == 8"
   ]
  },
  {
   "cell_type": "code",
   "execution_count": 31,
   "id": "db1e47fb",
   "metadata": {},
   "outputs": [
    {
     "data": {
      "text/plain": [
       "True"
      ]
     },
     "execution_count": 31,
     "metadata": {},
     "output_type": "execute_result"
    }
   ],
   "source": [
    "5!=8"
   ]
  },
  {
   "cell_type": "code",
   "execution_count": 32,
   "id": "5a2b9e64",
   "metadata": {},
   "outputs": [
    {
     "data": {
      "text/plain": [
       "False"
      ]
     },
     "execution_count": 32,
     "metadata": {},
     "output_type": "execute_result"
    }
   ],
   "source": [
    "True and False"
   ]
  },
  {
   "cell_type": "code",
   "execution_count": 33,
   "id": "67e59eb0",
   "metadata": {},
   "outputs": [
    {
     "data": {
      "text/plain": [
       "True"
      ]
     },
     "execution_count": 33,
     "metadata": {},
     "output_type": "execute_result"
    }
   ],
   "source": [
    "True or False"
   ]
  },
  {
   "cell_type": "code",
   "execution_count": 25,
   "id": "083d11f0",
   "metadata": {},
   "outputs": [
    {
     "data": {
      "text/plain": [
       "True"
      ]
     },
     "execution_count": 25,
     "metadata": {},
     "output_type": "execute_result"
    }
   ],
   "source": [
    "5 in[1,2,3,4,5]"
   ]
  },
  {
   "cell_type": "code",
   "execution_count": 26,
   "id": "9e0aea63",
   "metadata": {},
   "outputs": [
    {
     "data": {
      "text/plain": [
       "True"
      ]
     },
     "execution_count": 26,
     "metadata": {},
     "output_type": "execute_result"
    }
   ],
   "source": [
    "6 not in [1,2,3] "
   ]
  },
  {
   "cell_type": "code",
   "execution_count": 27,
   "id": "5a751747",
   "metadata": {},
   "outputs": [
    {
     "data": {
      "text/plain": [
       "2"
      ]
     },
     "execution_count": 27,
     "metadata": {},
     "output_type": "execute_result"
    }
   ],
   "source": [
    "10 & 7 # 10=1010 y 7=0111"
   ]
  },
  {
   "cell_type": "code",
   "execution_count": 28,
   "id": "d0962c5e",
   "metadata": {},
   "outputs": [
    {
     "data": {
      "text/plain": [
       "15"
      ]
     },
     "execution_count": 28,
     "metadata": {},
     "output_type": "execute_result"
    }
   ],
   "source": [
    "10 | 7"
   ]
  },
  {
   "cell_type": "code",
   "execution_count": 29,
   "id": "31bfb652",
   "metadata": {},
   "outputs": [
    {
     "data": {
      "text/plain": [
       "13"
      ]
     },
     "execution_count": 29,
     "metadata": {},
     "output_type": "execute_result"
    }
   ],
   "source": [
    "10 ^ 7 "
   ]
  },
  {
   "cell_type": "code",
   "execution_count": 30,
   "id": "f3b9e0b8",
   "metadata": {},
   "outputs": [
    {
     "data": {
      "text/plain": [
       "-11"
      ]
     },
     "execution_count": 30,
     "metadata": {},
     "output_type": "execute_result"
    }
   ],
   "source": [
    "~10"
   ]
  },
  {
   "cell_type": "code",
   "execution_count": 31,
   "id": "53f27127",
   "metadata": {},
   "outputs": [
    {
     "data": {
      "text/plain": [
       "5"
      ]
     },
     "execution_count": 31,
     "metadata": {},
     "output_type": "execute_result"
    }
   ],
   "source": [
    "10 >> 1 "
   ]
  },
  {
   "cell_type": "code",
   "execution_count": 32,
   "id": "fd4ce28f",
   "metadata": {},
   "outputs": [
    {
     "data": {
      "text/plain": [
       "20"
      ]
     },
     "execution_count": 32,
     "metadata": {},
     "output_type": "execute_result"
    }
   ],
   "source": [
    "10 << 1 "
   ]
  },
  {
   "cell_type": "code",
   "execution_count": 35,
   "id": "ba4d9560",
   "metadata": {},
   "outputs": [
    {
     "name": "stdout",
     "output_type": "stream",
     "text": [
      "Ingrese un número cualquiera: -5\n",
      "El número ingresado es negativo\n",
      "El número es impar\n"
     ]
    }
   ],
   "source": [
    "x = int(input('Ingrese un número cualquiera: '))\n",
    "\n",
    "if x < 0:\n",
    "    print('El número ingresado es negativo')\n",
    "    x*=-1\n",
    "\n",
    "elif x ==0:\n",
    "    print('El número ingresado es 0')\n",
    "\n",
    "if x%2 == 0:\n",
    "    print('El número es par')\n",
    "\n",
    "else:\n",
    "    print('El número es impar')"
   ]
  },
  {
   "cell_type": "code",
   "execution_count": 37,
   "id": "cf339b26",
   "metadata": {},
   "outputs": [
    {
     "name": "stdout",
     "output_type": "stream",
     "text": [
      "Origin\n"
     ]
    }
   ],
   "source": [
    "x = 34\n",
    "y = 0\n",
    "\n",
    "point = (x,y)\n",
    "\n",
    "match point:\n",
    "    case (0, 0):\n",
    "        print(\"Origin\")\n",
    "    case (0, y):\n",
    "        print(f\"Y={y}\") #f= format \n",
    "    case (x, 0):\n",
    "        print(f\"X={x}\")\n",
    "    case (x, y):\n",
    "        print(f\"X={x}, Y={y}\")\n",
    "    case _:\n",
    "        raise ValueError(\"Not a point\")\n"
   ]
  },
  {
   "cell_type": "code",
   "execution_count": 38,
   "id": "a4aac2fc",
   "metadata": {},
   "outputs": [
    {
     "name": "stdout",
     "output_type": "stream",
     "text": [
      "1\n",
      "2\n",
      "3\n",
      "4\n",
      "5\n",
      "6\n",
      "7\n",
      "8\n",
      "9\n"
     ]
    }
   ],
   "source": [
    "n = 1\n",
    "\n",
    "while n < 10:\n",
    "    print(n)\n",
    "    n +=1"
   ]
  },
  {
   "cell_type": "code",
   "execution_count": 39,
   "id": "3bc0b1c4",
   "metadata": {},
   "outputs": [
    {
     "name": "stdout",
     "output_type": "stream",
     "text": [
      "1\n",
      "2\n",
      "3\n",
      "4\n",
      "5\n",
      "6\n",
      "7\n",
      "8\n",
      "9\n"
     ]
    }
   ],
   "source": [
    "l = [1,2,3,4,5,6,7,8,9]\n",
    "\n",
    "for i in l:\n",
    "    print(i)"
   ]
  },
  {
   "cell_type": "code",
   "execution_count": 40,
   "id": "698d022b",
   "metadata": {},
   "outputs": [
    {
     "name": "stdout",
     "output_type": "stream",
     "text": [
      "0\n",
      "1\n",
      "2\n",
      "3\n",
      "4\n"
     ]
    }
   ],
   "source": [
    "for i in range(5):\n",
    "    print(i)"
   ]
  },
  {
   "cell_type": "code",
   "execution_count": 41,
   "id": "65d8bfd6",
   "metadata": {},
   "outputs": [
    {
     "data": {
      "text/plain": [
       "[5, 6, 7, 8, 9]"
      ]
     },
     "execution_count": 41,
     "metadata": {},
     "output_type": "execute_result"
    }
   ],
   "source": [
    "list(range(5, 10))"
   ]
  },
  {
   "cell_type": "code",
   "execution_count": 42,
   "id": "4bde17c8",
   "metadata": {},
   "outputs": [
    {
     "data": {
      "text/plain": [
       "[-10, -40, -70]"
      ]
     },
     "execution_count": 42,
     "metadata": {},
     "output_type": "execute_result"
    }
   ],
   "source": [
    "list(range(-10, -100, -30))"
   ]
  },
  {
   "cell_type": "code",
   "execution_count": 43,
   "id": "887ad672",
   "metadata": {
    "scrolled": true
   },
   "outputs": [
    {
     "name": "stdout",
     "output_type": "stream",
     "text": [
      "0 Mary\n",
      "1 had\n",
      "2 a\n",
      "3 little\n",
      "4 lamb\n"
     ]
    }
   ],
   "source": [
    "a = ['Mary', 'had', 'a', 'little', 'lamb']\n",
    "for i in range(len(a)):\n",
    "    print(i, a[i])"
   ]
  },
  {
   "cell_type": "code",
   "execution_count": 40,
   "id": "512fdb1d",
   "metadata": {},
   "outputs": [
    {
     "name": "stdout",
     "output_type": "stream",
     "text": [
      "tamaño del string es:  9\n",
      "tamaño del string es:  6\n",
      "tamaño del string:  12\n"
     ]
    }
   ],
   "source": [
    "def a_function(string):    \n",
    "    return len(string)    \n",
    "    \n",
    "# Llamar a la función  \n",
    "print( \"tamaño del string es: \", a_function(\"Functions\"))    \n",
    "print( \"tamaño del string es: \", a_function( \"Python\" ) )  \n",
    "print(\"tamaño del string: \", a_function(\"Curso Python\"))"
   ]
  },
  {
   "cell_type": "code",
   "execution_count": 46,
   "id": "ffbf40f1",
   "metadata": {},
   "outputs": [
    {
     "name": "stdout",
     "output_type": "stream",
     "text": [
      "Nombre: Mabel\n",
      "Apellido: Vidal\n"
     ]
    }
   ],
   "source": [
    "def display_info(nombre, apellido):\n",
    "    print('Nombre:', nombre)\n",
    "    print('Apellido:', apellido)\n",
    "\n",
    "display_info(apellido = 'Vidal', nombre = 'Mabel')"
   ]
  },
  {
   "cell_type": "code",
   "execution_count": 49,
   "id": "6194f12c",
   "metadata": {},
   "outputs": [
    {
     "name": "stdout",
     "output_type": "stream",
     "text": [
      "[10, 8, 7, 5, 11]\n"
     ]
    }
   ],
   "source": [
    "sequences = [10,2,8,7,5,4,3,11,0,1]\n",
    "filtered_result = filter (lambda x: x > 4, sequences) \n",
    "print(list(filtered_result))"
   ]
  },
  {
   "cell_type": "code",
   "execution_count": 50,
   "id": "ffd4b1c7",
   "metadata": {},
   "outputs": [
    {
     "data": {
      "text/plain": [
       "[('China', 1391), ('India', 1364), ('Estados Unidos', 327), ('Indonesia', 264)]"
      ]
     },
     "execution_count": 50,
     "metadata": {},
     "output_type": "execute_result"
    }
   ],
   "source": [
    "paises = [\"China\", \"India\", \"Estados Unidos\", \"Indonesia\"]\n",
    "poblaciones = [1391, 1364, 327, 264]\n",
    "list(zip(paises, poblaciones))"
   ]
  },
  {
   "cell_type": "code",
   "execution_count": 51,
   "id": "076f54f2",
   "metadata": {},
   "outputs": [
    {
     "data": {
      "text/plain": [
       "[(0, 'Java'), (1, 'C'), (2, 'C++'), (3, 'Rust'), (4, 'Elixir')]"
      ]
     },
     "execution_count": 51,
     "metadata": {},
     "output_type": "execute_result"
    }
   ],
   "source": [
    "lenguajes = [\"Java\", \"C\", \"C++\", \"Rust\", \"Elixir\"]\n",
    "list(enumerate(lenguajes))"
   ]
  },
  {
   "cell_type": "code",
   "execution_count": 52,
   "id": "e3b51cdb",
   "metadata": {},
   "outputs": [
    {
     "name": "stdout",
     "output_type": "stream",
     "text": [
      "0 Java\n",
      "1 C\n",
      "2 C++\n",
      "3 Rust\n",
      "4 Elixir\n"
     ]
    }
   ],
   "source": [
    "for i, lenguaje in enumerate(lenguajes):\n",
    "    print(i, lenguaje)"
   ]
  },
  {
   "cell_type": "code",
   "execution_count": 42,
   "id": "04121c95",
   "metadata": {},
   "outputs": [
    {
     "name": "stdout",
     "output_type": "stream",
     "text": [
      "ingrese el numerador:30\n",
      "ingrese el denominador:99\n",
      "30.0/99.0 = 0.30303030303030304\n"
     ]
    }
   ],
   "source": [
    "numerador = float(input('ingrese el numerador:'))\n",
    "denominador = float(input('ingrese el denominador:'))\n",
    "\n",
    "try:\n",
    "    cociente = numerador/denominador\n",
    "    print(f'{numerador}/{denominador} = {cociente}')\n",
    "except ZeroDivisionError:\n",
    "    print('Error: el denominador es nulo')"
   ]
  },
  {
   "cell_type": "code",
   "execution_count": null,
   "id": "e7b85306",
   "metadata": {},
   "outputs": [],
   "source": []
  }
 ],
 "metadata": {
  "kernelspec": {
   "display_name": "Python 3 (ipykernel)",
   "language": "python",
   "name": "python3"
  },
  "language_info": {
   "codemirror_mode": {
    "name": "ipython",
    "version": 3
   },
   "file_extension": ".py",
   "mimetype": "text/x-python",
   "name": "python",
   "nbconvert_exporter": "python",
   "pygments_lexer": "ipython3",
   "version": "3.12.3"
  }
 },
 "nbformat": 4,
 "nbformat_minor": 5
}
